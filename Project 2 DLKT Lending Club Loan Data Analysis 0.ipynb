{
 "cells": [
  {
   "cell_type": "markdown",
   "id": "81071176",
   "metadata": {},
   "source": [
    "# Deep Learning with Keras and Tensorflow Project\n",
    "\n",
    "### Lending Club Loan Data Analysis\n",
    "\n",
    "#### DESCRIPTION\n",
    "\n",
    "- Create a model that predicts whether or not a loan will be default using the historical data.\n",
    "\n",
    "#### Problem Statement:  \n",
    "\n",
    "- For companies like Lending Club correctly predicting whether or not a loan will be a default is very important. In this project, using the historical data from 2007 to 2015, you have to build a deep learning model to predict the chance of default for future loans. As you will see later this dataset is highly imbalanced and includes a lot of features that make this problem more challenging.\n",
    "\n",
    "#### Domain: \n",
    "- Finance\n",
    "\n",
    "- Analysis to be done: Perform data preprocessing and build a deep learning prediction model. \n",
    "\n",
    "#### Content: \n",
    "\n",
    "- Dataset columns and definition:\n",
    "\n",
    "1. credit.policy: 1 if the customer meets the credit underwriting criteria of LendingClub.com, and 0 otherwise.\n",
    "\n",
    "2. purpose: The purpose of the loan (takes values \"credit_card\", \"debt_consolidation\", \"educational\", \"major_purchase\", \"small_business\", and \"all_other\").\n",
    "\n",
    "3. int.rate: The interest rate of the loan, as a proportion (a rate of 11% would be stored as 0.11). Borrowers judged by LendingClub.com to be more risky are assigned higher interest rates.\n",
    "\n",
    "4. installment: The monthly installments owed by the borrower if the loan is funded.\n",
    "\n",
    "5. log.annual.inc: The natural log of the self-reported annual income of the borrower.\n",
    "\n",
    "6. dti: The debt-to-income ratio of the borrower (amount of debt divided by annual income).\n",
    "\n",
    "7. fico: The FICO credit score of the borrower.\n",
    "\n",
    "8. days.with.cr.line: The number of days the borrower has had a credit line.\n",
    "\n",
    "9. revol.bal: The borrower's revolving balance (amount unpaid at the end of the credit card billing cycle).\n",
    "\n",
    "10. revol.util: The borrower's revolving line utilization rate (the amount of the credit line used relative to total credit available).\n",
    "\n",
    "11. inq.last.6mths: The borrower's number of inquiries by creditors in the last 6 months.\n",
    "\n",
    "12. delinq.2yrs: The number of times the borrower had been 30+ days past due on a payment in the past 2 years.\n",
    "\n",
    "13. pub.rec: The borrower's number of derogatory public records (bankruptcy filings, tax liens, or judgments).\n",
    "\n",
    " \n",
    "\n",
    "#### Steps to perform:\n",
    "\n",
    "- Perform exploratory data analysis and feature engineering and then apply feature engineering. Follow up with a deep learning model to predict whether or not the loan will be default using the historical data.\n",
    "\n",
    "#### Tasks:\n",
    "\n",
    "1. Feature Transformation\n",
    "\n",
    "    - Transform categorical values into numerical values (discrete)\n",
    "\n",
    "2. Exploratory data analysis of different factors of the dataset.\n",
    "\n",
    "3. Additional Feature Engineering\n",
    "\n",
    "    - You will check the correlation between features and will drop those features which have a strong correlation\n",
    "\n",
    "    - This will help reduce the number of features and will leave you with the most relevant features\n",
    "\n",
    "4. Modeling\n",
    "\n",
    "   - After applying EDA and feature engineering, you are now ready to build the predictive models\n",
    "\n",
    "   - In this part, you will create a deep learning model using Keras with Tensorflow backend"
   ]
  },
  {
   "cell_type": "markdown",
   "id": "a1680e91",
   "metadata": {},
   "source": [
    "### Data Preprocessing \n",
    "### Deep Learning Model"
   ]
  },
  {
   "cell_type": "code",
   "execution_count": 1,
   "id": "7bc8713b",
   "metadata": {},
   "outputs": [],
   "source": [
    "#import the library\n",
    "import pandas as pd\n",
    "import numpy as np\n",
    "import matplotlib.pyplot as plt\n",
    "%matplotlib inline\n",
    "import seaborn as sns"
   ]
  },
  {
   "cell_type": "code",
   "execution_count": 2,
   "id": "97f3884d",
   "metadata": {},
   "outputs": [],
   "source": [
    "#Load the dataset\n",
    "df=pd.read_csv('Project 2 DLKT Lending Club Loan Data Analysis.csv')"
   ]
  },
  {
   "cell_type": "code",
   "execution_count": 3,
   "id": "0abec9fb",
   "metadata": {},
   "outputs": [
    {
     "data": {
      "text/plain": [
       "(9578, 14)"
      ]
     },
     "execution_count": 3,
     "metadata": {},
     "output_type": "execute_result"
    }
   ],
   "source": [
    "#shape of data and Shape is a attribute not function\n",
    "df.shape"
   ]
  },
  {
   "cell_type": "code",
   "execution_count": 4,
   "id": "7533d341",
   "metadata": {},
   "outputs": [
    {
     "data": {
      "text/html": [
       "<div>\n",
       "<style scoped>\n",
       "    .dataframe tbody tr th:only-of-type {\n",
       "        vertical-align: middle;\n",
       "    }\n",
       "\n",
       "    .dataframe tbody tr th {\n",
       "        vertical-align: top;\n",
       "    }\n",
       "\n",
       "    .dataframe thead th {\n",
       "        text-align: right;\n",
       "    }\n",
       "</style>\n",
       "<table border=\"1\" class=\"dataframe\">\n",
       "  <thead>\n",
       "    <tr style=\"text-align: right;\">\n",
       "      <th></th>\n",
       "      <th>credit.policy</th>\n",
       "      <th>purpose</th>\n",
       "      <th>int.rate</th>\n",
       "      <th>installment</th>\n",
       "      <th>log.annual.inc</th>\n",
       "      <th>dti</th>\n",
       "      <th>fico</th>\n",
       "      <th>days.with.cr.line</th>\n",
       "      <th>revol.bal</th>\n",
       "      <th>revol.util</th>\n",
       "      <th>inq.last.6mths</th>\n",
       "      <th>delinq.2yrs</th>\n",
       "      <th>pub.rec</th>\n",
       "      <th>not.fully.paid</th>\n",
       "    </tr>\n",
       "  </thead>\n",
       "  <tbody>\n",
       "    <tr>\n",
       "      <th>0</th>\n",
       "      <td>1</td>\n",
       "      <td>debt_consolidation</td>\n",
       "      <td>0.1189</td>\n",
       "      <td>829.10</td>\n",
       "      <td>11.350407</td>\n",
       "      <td>19.48</td>\n",
       "      <td>737</td>\n",
       "      <td>5639.958333</td>\n",
       "      <td>28854</td>\n",
       "      <td>52.1</td>\n",
       "      <td>0</td>\n",
       "      <td>0</td>\n",
       "      <td>0</td>\n",
       "      <td>0</td>\n",
       "    </tr>\n",
       "    <tr>\n",
       "      <th>1</th>\n",
       "      <td>1</td>\n",
       "      <td>credit_card</td>\n",
       "      <td>0.1071</td>\n",
       "      <td>228.22</td>\n",
       "      <td>11.082143</td>\n",
       "      <td>14.29</td>\n",
       "      <td>707</td>\n",
       "      <td>2760.000000</td>\n",
       "      <td>33623</td>\n",
       "      <td>76.7</td>\n",
       "      <td>0</td>\n",
       "      <td>0</td>\n",
       "      <td>0</td>\n",
       "      <td>0</td>\n",
       "    </tr>\n",
       "    <tr>\n",
       "      <th>2</th>\n",
       "      <td>1</td>\n",
       "      <td>debt_consolidation</td>\n",
       "      <td>0.1357</td>\n",
       "      <td>366.86</td>\n",
       "      <td>10.373491</td>\n",
       "      <td>11.63</td>\n",
       "      <td>682</td>\n",
       "      <td>4710.000000</td>\n",
       "      <td>3511</td>\n",
       "      <td>25.6</td>\n",
       "      <td>1</td>\n",
       "      <td>0</td>\n",
       "      <td>0</td>\n",
       "      <td>0</td>\n",
       "    </tr>\n",
       "    <tr>\n",
       "      <th>3</th>\n",
       "      <td>1</td>\n",
       "      <td>debt_consolidation</td>\n",
       "      <td>0.1008</td>\n",
       "      <td>162.34</td>\n",
       "      <td>11.350407</td>\n",
       "      <td>8.10</td>\n",
       "      <td>712</td>\n",
       "      <td>2699.958333</td>\n",
       "      <td>33667</td>\n",
       "      <td>73.2</td>\n",
       "      <td>1</td>\n",
       "      <td>0</td>\n",
       "      <td>0</td>\n",
       "      <td>0</td>\n",
       "    </tr>\n",
       "    <tr>\n",
       "      <th>4</th>\n",
       "      <td>1</td>\n",
       "      <td>credit_card</td>\n",
       "      <td>0.1426</td>\n",
       "      <td>102.92</td>\n",
       "      <td>11.299732</td>\n",
       "      <td>14.97</td>\n",
       "      <td>667</td>\n",
       "      <td>4066.000000</td>\n",
       "      <td>4740</td>\n",
       "      <td>39.5</td>\n",
       "      <td>0</td>\n",
       "      <td>1</td>\n",
       "      <td>0</td>\n",
       "      <td>0</td>\n",
       "    </tr>\n",
       "  </tbody>\n",
       "</table>\n",
       "</div>"
      ],
      "text/plain": [
       "   credit.policy             purpose  int.rate  installment  log.annual.inc  \\\n",
       "0              1  debt_consolidation    0.1189       829.10       11.350407   \n",
       "1              1         credit_card    0.1071       228.22       11.082143   \n",
       "2              1  debt_consolidation    0.1357       366.86       10.373491   \n",
       "3              1  debt_consolidation    0.1008       162.34       11.350407   \n",
       "4              1         credit_card    0.1426       102.92       11.299732   \n",
       "\n",
       "     dti  fico  days.with.cr.line  revol.bal  revol.util  inq.last.6mths  \\\n",
       "0  19.48   737        5639.958333      28854        52.1               0   \n",
       "1  14.29   707        2760.000000      33623        76.7               0   \n",
       "2  11.63   682        4710.000000       3511        25.6               1   \n",
       "3   8.10   712        2699.958333      33667        73.2               1   \n",
       "4  14.97   667        4066.000000       4740        39.5               0   \n",
       "\n",
       "   delinq.2yrs  pub.rec  not.fully.paid  \n",
       "0            0        0               0  \n",
       "1            0        0               0  \n",
       "2            0        0               0  \n",
       "3            0        0               0  \n",
       "4            1        0               0  "
      ]
     },
     "execution_count": 4,
     "metadata": {},
     "output_type": "execute_result"
    }
   ],
   "source": [
    "df.head()"
   ]
  },
  {
   "cell_type": "code",
   "execution_count": 5,
   "id": "02ab67d1",
   "metadata": {},
   "outputs": [
    {
     "data": {
      "text/plain": [
       "credit.policy        0\n",
       "purpose              0\n",
       "int.rate             0\n",
       "installment          0\n",
       "log.annual.inc       0\n",
       "dti                  0\n",
       "fico                 0\n",
       "days.with.cr.line    0\n",
       "revol.bal            0\n",
       "revol.util           0\n",
       "inq.last.6mths       0\n",
       "delinq.2yrs          0\n",
       "pub.rec              0\n",
       "not.fully.paid       0\n",
       "dtype: int64"
      ]
     },
     "execution_count": 5,
     "metadata": {},
     "output_type": "execute_result"
    }
   ],
   "source": [
    "# Null value\n",
    "df.isnull().sum()"
   ]
  },
  {
   "cell_type": "code",
   "execution_count": 6,
   "id": "e7c80c82",
   "metadata": {},
   "outputs": [
    {
     "data": {
      "text/plain": [
       "0    8045\n",
       "1    1533\n",
       "Name: not.fully.paid, dtype: int64"
      ]
     },
     "execution_count": 6,
     "metadata": {},
     "output_type": "execute_result"
    }
   ],
   "source": [
    "# check how many fully paid(0) and how many not fully paid(1)\n",
    "df['not.fully.paid'].value_counts()"
   ]
  },
  {
   "cell_type": "raw",
   "id": "20b8fe04",
   "metadata": {},
   "source": [
    "#(0) 8045 is fully paid\n",
    "#(1) 1533 is not fully paid"
   ]
  },
  {
   "cell_type": "markdown",
   "id": "56418fe9",
   "metadata": {},
   "source": [
    "# EDA\n",
    "\n",
    "### Exploratory data analysis of different factors of the dataset."
   ]
  },
  {
   "cell_type": "code",
   "execution_count": 7,
   "id": "44cf566d",
   "metadata": {},
   "outputs": [
    {
     "data": {
      "image/png": "[encoded data removed]",
      "text/plain": [
       "<Figure size 640x480 with 1 Axes>"
      ]
     },
     "metadata": {},
     "output_type": "display_data"
    }
   ],
   "source": [
    "sns.countplot(x=df['not.fully.paid'])\n",
    "plt.show()"
   ]
  },
  {
   "cell_type": "code",
   "execution_count": 8,
   "id": "9cd4cca1",
   "metadata": {},
   "outputs": [
    {
     "data": {
      "image/png": "[encoded data removed]",
      "text/plain": [
       "<Figure size 1100x700 with 1 Axes>"
      ]
     },
     "metadata": {},
     "output_type": "display_data"
    }
   ],
   "source": [
    "plt.figure(figsize=(11,7))\n",
    "sns.countplot(x=df['purpose'])\n",
    "plt.show()"
   ]
  },
  {
   "cell_type": "markdown",
   "id": "66bb80a1",
   "metadata": {},
   "source": [
    "### Handle imbalanced data\n",
    "\n",
    "- like smote\n",
    "- sampling"
   ]
  },
  {
   "cell_type": "raw",
   "id": "dcc0fb0f",
   "metadata": {},
   "source": [
    "#(0) is fully paid\n",
    "#(1) is not fully paid"
   ]
  },
  {
   "cell_type": "code",
   "execution_count": 9,
   "id": "9ffe352d",
   "metadata": {},
   "outputs": [],
   "source": [
    "#perform some sampling but before sampling let's create some variable\n",
    "#create 2 varibale df\n",
    "fully_paid_0=df[df['not.fully.paid']==0]\n",
    "not_fully_paid_1=df[df['not.fully.paid']==1]"
   ]
  },
  {
   "cell_type": "code",
   "execution_count": 10,
   "id": "84001493",
   "metadata": {},
   "outputs": [
    {
     "data": {
      "text/plain": [
       "(8045, 14)"
      ]
     },
     "execution_count": 10,
     "metadata": {},
     "output_type": "execute_result"
    }
   ],
   "source": [
    "fully_paid_0.shape"
   ]
  },
  {
   "cell_type": "code",
   "execution_count": 11,
   "id": "33b82751",
   "metadata": {},
   "outputs": [
    {
     "data": {
      "text/plain": [
       "(1533, 14)"
      ]
     },
     "execution_count": 11,
     "metadata": {},
     "output_type": "execute_result"
    }
   ],
   "source": [
    "not_fully_paid_1.shape"
   ]
  },
  {
   "cell_type": "code",
   "execution_count": 12,
   "id": "1731c1df",
   "metadata": {},
   "outputs": [],
   "source": [
    "# resampling to handle the imbalanced data\n",
    "from sklearn.utils import resample\n",
    "df_sampled_data=resample(not_fully_paid_1,replace=True,n_samples=8045)"
   ]
  },
  {
   "cell_type": "code",
   "execution_count": 13,
   "id": "655f07a5",
   "metadata": {},
   "outputs": [
    {
     "data": {
      "text/plain": [
       "(8045, 14)"
      ]
     },
     "execution_count": 13,
     "metadata": {},
     "output_type": "execute_result"
    }
   ],
   "source": [
    "df_sampled_data.shape"
   ]
  },
  {
   "cell_type": "code",
   "execution_count": 14,
   "id": "91a2ba9a",
   "metadata": {},
   "outputs": [],
   "source": [
    "#Concatenating\n",
    "new_df=pd.concat([fully_paid_0,df_sampled_data])"
   ]
  },
  {
   "cell_type": "code",
   "execution_count": 15,
   "id": "5340dcc4",
   "metadata": {},
   "outputs": [],
   "source": [
    "#Let's Shuffle the data\n",
    "from sklearn.utils import shuffle\n",
    "new_df=shuffle(new_df)"
   ]
  },
  {
   "cell_type": "code",
   "execution_count": 16,
   "id": "5efa786b",
   "metadata": {},
   "outputs": [
    {
     "data": {
      "text/plain": [
       "(16090, 14)"
      ]
     },
     "execution_count": 16,
     "metadata": {},
     "output_type": "execute_result"
    }
   ],
   "source": [
    "new_df.shape"
   ]
  },
  {
   "cell_type": "markdown",
   "id": "23bfc814",
   "metadata": {},
   "source": [
    "### 1. Feature Transformation\n",
    "\n",
    "Transform categorical values into numerical values (discrete)\n",
    "\n",
    "- Extract the best feature\n",
    "- scaling the data\n",
    "- chategorical values to numerical value\n",
    "- encoding"
   ]
  },
  {
   "cell_type": "code",
   "execution_count": 17,
   "id": "edf0f342",
   "metadata": {},
   "outputs": [
    {
     "data": {
      "text/plain": [
       "credit.policy          int64\n",
       "purpose               object\n",
       "int.rate             float64\n",
       "installment          float64\n",
       "log.annual.inc       float64\n",
       "dti                  float64\n",
       "fico                   int64\n",
       "days.with.cr.line    float64\n",
       "revol.bal              int64\n",
       "revol.util           float64\n",
       "inq.last.6mths         int64\n",
       "delinq.2yrs            int64\n",
       "pub.rec                int64\n",
       "not.fully.paid         int64\n",
       "dtype: object"
      ]
     },
     "execution_count": 17,
     "metadata": {},
     "output_type": "execute_result"
    }
   ],
   "source": [
    "new_df.dtypes"
   ]
  },
  {
   "cell_type": "code",
   "execution_count": 18,
   "id": "67eb2c96",
   "metadata": {},
   "outputs": [],
   "source": [
    "#Apply Label encoding\n",
    "from sklearn.preprocessing import LabelEncoder\n",
    "le=LabelEncoder()"
   ]
  },
  {
   "cell_type": "code",
   "execution_count": 19,
   "id": "2296ea24",
   "metadata": {},
   "outputs": [],
   "source": [
    "for i in new_df.columns:\n",
    "    if new_df[i].dtypes=='object':\n",
    "        new_df[i]=le.fit_transform(new_df[i])"
   ]
  },
  {
   "cell_type": "code",
   "execution_count": 20,
   "id": "d79ff662",
   "metadata": {},
   "outputs": [
    {
     "data": {
      "text/plain": [
       "credit.policy          int64\n",
       "purpose                int32\n",
       "int.rate             float64\n",
       "installment          float64\n",
       "log.annual.inc       float64\n",
       "dti                  float64\n",
       "fico                   int64\n",
       "days.with.cr.line    float64\n",
       "revol.bal              int64\n",
       "revol.util           float64\n",
       "inq.last.6mths         int64\n",
       "delinq.2yrs            int64\n",
       "pub.rec                int64\n",
       "not.fully.paid         int64\n",
       "dtype: object"
      ]
     },
     "execution_count": 20,
     "metadata": {},
     "output_type": "execute_result"
    }
   ],
   "source": [
    "new_df.dtypes"
   ]
  },
  {
   "cell_type": "code",
   "execution_count": 21,
   "id": "6f486ea9",
   "metadata": {},
   "outputs": [
    {
     "data": {
      "text/html": [
       "<div>\n",
       "<style scoped>\n",
       "    .dataframe tbody tr th:only-of-type {\n",
       "        vertical-align: middle;\n",
       "    }\n",
       "\n",
       "    .dataframe tbody tr th {\n",
       "        vertical-align: top;\n",
       "    }\n",
       "\n",
       "    .dataframe thead th {\n",
       "        text-align: right;\n",
       "    }\n",
       "</style>\n",
       "<table border=\"1\" class=\"dataframe\">\n",
       "  <thead>\n",
       "    <tr style=\"text-align: right;\">\n",
       "      <th></th>\n",
       "      <th>credit.policy</th>\n",
       "      <th>purpose</th>\n",
       "      <th>int.rate</th>\n",
       "      <th>installment</th>\n",
       "      <th>log.annual.inc</th>\n",
       "      <th>dti</th>\n",
       "      <th>fico</th>\n",
       "      <th>days.with.cr.line</th>\n",
       "      <th>revol.bal</th>\n",
       "      <th>revol.util</th>\n",
       "      <th>inq.last.6mths</th>\n",
       "      <th>delinq.2yrs</th>\n",
       "      <th>pub.rec</th>\n",
       "      <th>not.fully.paid</th>\n",
       "    </tr>\n",
       "  </thead>\n",
       "  <tbody>\n",
       "    <tr>\n",
       "      <th>1172</th>\n",
       "      <td>1</td>\n",
       "      <td>1</td>\n",
       "      <td>0.1008</td>\n",
       "      <td>232.60</td>\n",
       "      <td>10.545341</td>\n",
       "      <td>18.09</td>\n",
       "      <td>722</td>\n",
       "      <td>2369.958333</td>\n",
       "      <td>12391</td>\n",
       "      <td>66.6</td>\n",
       "      <td>1</td>\n",
       "      <td>0</td>\n",
       "      <td>0</td>\n",
       "      <td>0</td>\n",
       "    </tr>\n",
       "    <tr>\n",
       "      <th>4416</th>\n",
       "      <td>1</td>\n",
       "      <td>0</td>\n",
       "      <td>0.1218</td>\n",
       "      <td>166.50</td>\n",
       "      <td>11.119883</td>\n",
       "      <td>14.99</td>\n",
       "      <td>697</td>\n",
       "      <td>3874.958333</td>\n",
       "      <td>1461</td>\n",
       "      <td>23.2</td>\n",
       "      <td>1</td>\n",
       "      <td>1</td>\n",
       "      <td>1</td>\n",
       "      <td>0</td>\n",
       "    </tr>\n",
       "    <tr>\n",
       "      <th>8879</th>\n",
       "      <td>0</td>\n",
       "      <td>2</td>\n",
       "      <td>0.1379</td>\n",
       "      <td>340.76</td>\n",
       "      <td>10.858999</td>\n",
       "      <td>21.99</td>\n",
       "      <td>682</td>\n",
       "      <td>3030.041667</td>\n",
       "      <td>6641</td>\n",
       "      <td>31.6</td>\n",
       "      <td>4</td>\n",
       "      <td>0</td>\n",
       "      <td>0</td>\n",
       "      <td>1</td>\n",
       "    </tr>\n",
       "    <tr>\n",
       "      <th>2262</th>\n",
       "      <td>1</td>\n",
       "      <td>1</td>\n",
       "      <td>0.1189</td>\n",
       "      <td>258.68</td>\n",
       "      <td>10.778956</td>\n",
       "      <td>9.63</td>\n",
       "      <td>742</td>\n",
       "      <td>4953.041667</td>\n",
       "      <td>3501</td>\n",
       "      <td>23.5</td>\n",
       "      <td>1</td>\n",
       "      <td>0</td>\n",
       "      <td>0</td>\n",
       "      <td>1</td>\n",
       "    </tr>\n",
       "    <tr>\n",
       "      <th>9269</th>\n",
       "      <td>0</td>\n",
       "      <td>6</td>\n",
       "      <td>0.1739</td>\n",
       "      <td>358.48</td>\n",
       "      <td>12.206073</td>\n",
       "      <td>10.80</td>\n",
       "      <td>687</td>\n",
       "      <td>4649.958333</td>\n",
       "      <td>191303</td>\n",
       "      <td>78.2</td>\n",
       "      <td>5</td>\n",
       "      <td>0</td>\n",
       "      <td>0</td>\n",
       "      <td>1</td>\n",
       "    </tr>\n",
       "  </tbody>\n",
       "</table>\n",
       "</div>"
      ],
      "text/plain": [
       "      credit.policy  purpose  int.rate  installment  log.annual.inc    dti  \\\n",
       "1172              1        1    0.1008       232.60       10.545341  18.09   \n",
       "4416              1        0    0.1218       166.50       11.119883  14.99   \n",
       "8879              0        2    0.1379       340.76       10.858999  21.99   \n",
       "2262              1        1    0.1189       258.68       10.778956   9.63   \n",
       "9269              0        6    0.1739       358.48       12.206073  10.80   \n",
       "\n",
       "      fico  days.with.cr.line  revol.bal  revol.util  inq.last.6mths  \\\n",
       "1172   722        2369.958333      12391        66.6               1   \n",
       "4416   697        3874.958333       1461        23.2               1   \n",
       "8879   682        3030.041667       6641        31.6               4   \n",
       "2262   742        4953.041667       3501        23.5               1   \n",
       "9269   687        4649.958333     191303        78.2               5   \n",
       "\n",
       "      delinq.2yrs  pub.rec  not.fully.paid  \n",
       "1172            0        0               0  \n",
       "4416            1        1               0  \n",
       "8879            0        0               1  \n",
       "2262            0        0               1  \n",
       "9269            0        0               1  "
      ]
     },
     "execution_count": 21,
     "metadata": {},
     "output_type": "execute_result"
    }
   ],
   "source": [
    "new_df.head()"
   ]
  },
  {
   "cell_type": "code",
   "execution_count": 22,
   "id": "f1816bc6",
   "metadata": {},
   "outputs": [
    {
     "data": {
      "text/plain": [
       "array(['all_other', 'credit_card', 'debt_consolidation', 'educational',\n",
       "       'home_improvement', 'major_purchase', 'small_business'],\n",
       "      dtype=object)"
      ]
     },
     "execution_count": 22,
     "metadata": {},
     "output_type": "execute_result"
    }
   ],
   "source": [
    "le.classes_"
   ]
  },
  {
   "cell_type": "markdown",
   "id": "ac894dfa",
   "metadata": {},
   "source": [
    "### 3.     Additional Feature Engineering\n",
    "\n",
    "You will check the correlation between features and will drop those features which have a strong correlation\n",
    "\n",
    "This will help reduce the number of features and will leave you with the most relevant features"
   ]
  },
  {
   "cell_type": "code",
   "execution_count": 23,
   "id": "3011cd08",
   "metadata": {},
   "outputs": [
    {
     "data": {
      "image/png": "[encoded data removed]",
      "text/plain": [
       "<Figure size 1100x700 with 2 Axes>"
      ]
     },
     "metadata": {},
     "output_type": "display_data"
    }
   ],
   "source": [
    "plt.figure(figsize=(11,7))\n",
    "sns.heatmap(new_df.corr(),annot=True)\n",
    "plt.show()"
   ]
  },
  {
   "cell_type": "code",
   "execution_count": 24,
   "id": "f4b2d7f4",
   "metadata": {},
   "outputs": [
    {
     "data": {
      "text/plain": [
       "not.fully.paid       1.000000\n",
       "int.rate             0.223107\n",
       "fico                 0.218499\n",
       "credit.policy        0.202111\n",
       "inq.last.6mths       0.180392\n",
       "revol.util           0.107086\n",
       "purpose              0.065774\n",
       "installment          0.065766\n",
       "pub.rec              0.065430\n",
       "revol.bal            0.060223\n",
       "dti                  0.053306\n",
       "log.annual.inc       0.044266\n",
       "days.with.cr.line    0.041809\n",
       "delinq.2yrs          0.022335\n",
       "Name: not.fully.paid, dtype: float64"
      ]
     },
     "execution_count": 24,
     "metadata": {},
     "output_type": "execute_result"
    }
   ],
   "source": [
    "#Show the corr\n",
    "#If we showing positive and negative then we use absolute() function\n",
    "new_df.corr().abs()['not.fully.paid'].sort_values(ascending=False)"
   ]
  },
  {
   "cell_type": "code",
   "execution_count": 25,
   "id": "d409fee2",
   "metadata": {},
   "outputs": [
    {
     "data": {
      "text/plain": [
       "Index(['credit.policy', 'purpose', 'int.rate', 'installment', 'log.annual.inc',\n",
       "       'dti', 'fico', 'days.with.cr.line', 'revol.bal', 'revol.util',\n",
       "       'inq.last.6mths', 'delinq.2yrs', 'pub.rec', 'not.fully.paid'],\n",
       "      dtype='object')"
      ]
     },
     "execution_count": 25,
     "metadata": {},
     "output_type": "execute_result"
    }
   ],
   "source": [
    "new_df.columns"
   ]
  },
  {
   "cell_type": "code",
   "execution_count": 26,
   "id": "276d6b5c",
   "metadata": {},
   "outputs": [],
   "source": [
    "#prepare input data\n",
    "X=new_df[['credit.policy','purpose','int.rate','installment',\n",
    "         'fico','revol.bal','revol.util','inq.last.6mths','pub.rec']]"
   ]
  },
  {
   "cell_type": "code",
   "execution_count": 27,
   "id": "55a1912c",
   "metadata": {},
   "outputs": [
    {
     "data": {
      "text/plain": [
       "(16090, 9)"
      ]
     },
     "execution_count": 27,
     "metadata": {},
     "output_type": "execute_result"
    }
   ],
   "source": [
    "X.shape"
   ]
  },
  {
   "cell_type": "code",
   "execution_count": 28,
   "id": "98cca4fc",
   "metadata": {},
   "outputs": [],
   "source": [
    "#Prepare output data\n",
    "y=new_df[['not.fully.paid']]"
   ]
  },
  {
   "cell_type": "code",
   "execution_count": 29,
   "id": "0f80e78d",
   "metadata": {},
   "outputs": [
    {
     "data": {
      "text/plain": [
       "(16090, 1)"
      ]
     },
     "execution_count": 29,
     "metadata": {},
     "output_type": "execute_result"
    }
   ],
   "source": [
    "y.shape"
   ]
  },
  {
   "cell_type": "markdown",
   "id": "6e429f8b",
   "metadata": {},
   "source": [
    "### 4. Modeling\n",
    "\n",
    "After applying EDA and feature engineering, you are now ready to build the predictive models\n",
    "\n",
    "In this part, you will create a deep learning model using Keras with Tensorflow backend"
   ]
  },
  {
   "cell_type": "code",
   "execution_count": 30,
   "id": "172df66e",
   "metadata": {},
   "outputs": [],
   "source": [
    "#Creating trainset & test set\n",
    "from sklearn.model_selection import train_test_split\n",
    "X_train,X_test,y_train,y_test=train_test_split(X,y,test_size=0.2,random_state=42)"
   ]
  },
  {
   "cell_type": "code",
   "execution_count": 31,
   "id": "760600e5",
   "metadata": {},
   "outputs": [
    {
     "data": {
      "text/html": [
       "<div>\n",
       "<style scoped>\n",
       "    .dataframe tbody tr th:only-of-type {\n",
       "        vertical-align: middle;\n",
       "    }\n",
       "\n",
       "    .dataframe tbody tr th {\n",
       "        vertical-align: top;\n",
       "    }\n",
       "\n",
       "    .dataframe thead th {\n",
       "        text-align: right;\n",
       "    }\n",
       "</style>\n",
       "<table border=\"1\" class=\"dataframe\">\n",
       "  <thead>\n",
       "    <tr style=\"text-align: right;\">\n",
       "      <th></th>\n",
       "      <th>credit.policy</th>\n",
       "      <th>purpose</th>\n",
       "      <th>int.rate</th>\n",
       "      <th>installment</th>\n",
       "      <th>fico</th>\n",
       "      <th>revol.bal</th>\n",
       "      <th>revol.util</th>\n",
       "      <th>inq.last.6mths</th>\n",
       "      <th>pub.rec</th>\n",
       "    </tr>\n",
       "  </thead>\n",
       "  <tbody>\n",
       "    <tr>\n",
       "      <th>1605</th>\n",
       "      <td>1</td>\n",
       "      <td>3</td>\n",
       "      <td>0.1114</td>\n",
       "      <td>82.02</td>\n",
       "      <td>692</td>\n",
       "      <td>51489</td>\n",
       "      <td>77.9</td>\n",
       "      <td>2</td>\n",
       "      <td>0</td>\n",
       "    </tr>\n",
       "    <tr>\n",
       "      <th>8451</th>\n",
       "      <td>0</td>\n",
       "      <td>2</td>\n",
       "      <td>0.1482</td>\n",
       "      <td>297.37</td>\n",
       "      <td>647</td>\n",
       "      <td>4181</td>\n",
       "      <td>97.2</td>\n",
       "      <td>2</td>\n",
       "      <td>0</td>\n",
       "    </tr>\n",
       "    <tr>\n",
       "      <th>647</th>\n",
       "      <td>1</td>\n",
       "      <td>2</td>\n",
       "      <td>0.1387</td>\n",
       "      <td>264.39</td>\n",
       "      <td>682</td>\n",
       "      <td>26996</td>\n",
       "      <td>66.8</td>\n",
       "      <td>0</td>\n",
       "      <td>0</td>\n",
       "    </tr>\n",
       "    <tr>\n",
       "      <th>2125</th>\n",
       "      <td>1</td>\n",
       "      <td>4</td>\n",
       "      <td>0.1316</td>\n",
       "      <td>185.74</td>\n",
       "      <td>692</td>\n",
       "      <td>22479</td>\n",
       "      <td>86.8</td>\n",
       "      <td>2</td>\n",
       "      <td>0</td>\n",
       "    </tr>\n",
       "    <tr>\n",
       "      <th>6508</th>\n",
       "      <td>1</td>\n",
       "      <td>2</td>\n",
       "      <td>0.1287</td>\n",
       "      <td>302.70</td>\n",
       "      <td>687</td>\n",
       "      <td>9846</td>\n",
       "      <td>80.0</td>\n",
       "      <td>0</td>\n",
       "      <td>0</td>\n",
       "    </tr>\n",
       "    <tr>\n",
       "      <th>...</th>\n",
       "      <td>...</td>\n",
       "      <td>...</td>\n",
       "      <td>...</td>\n",
       "      <td>...</td>\n",
       "      <td>...</td>\n",
       "      <td>...</td>\n",
       "      <td>...</td>\n",
       "      <td>...</td>\n",
       "      <td>...</td>\n",
       "    </tr>\n",
       "    <tr>\n",
       "      <th>4706</th>\n",
       "      <td>1</td>\n",
       "      <td>2</td>\n",
       "      <td>0.1392</td>\n",
       "      <td>546.20</td>\n",
       "      <td>687</td>\n",
       "      <td>23839</td>\n",
       "      <td>59.3</td>\n",
       "      <td>1</td>\n",
       "      <td>0</td>\n",
       "    </tr>\n",
       "    <tr>\n",
       "      <th>6984</th>\n",
       "      <td>1</td>\n",
       "      <td>2</td>\n",
       "      <td>0.1531</td>\n",
       "      <td>522.23</td>\n",
       "      <td>682</td>\n",
       "      <td>51605</td>\n",
       "      <td>97.9</td>\n",
       "      <td>1</td>\n",
       "      <td>0</td>\n",
       "    </tr>\n",
       "    <tr>\n",
       "      <th>88</th>\n",
       "      <td>1</td>\n",
       "      <td>1</td>\n",
       "      <td>0.1533</td>\n",
       "      <td>644.30</td>\n",
       "      <td>662</td>\n",
       "      <td>22379</td>\n",
       "      <td>62.2</td>\n",
       "      <td>0</td>\n",
       "      <td>0</td>\n",
       "    </tr>\n",
       "    <tr>\n",
       "      <th>8891</th>\n",
       "      <td>0</td>\n",
       "      <td>0</td>\n",
       "      <td>0.1537</td>\n",
       "      <td>139.39</td>\n",
       "      <td>682</td>\n",
       "      <td>1272</td>\n",
       "      <td>38.5</td>\n",
       "      <td>0</td>\n",
       "      <td>0</td>\n",
       "    </tr>\n",
       "    <tr>\n",
       "      <th>3133</th>\n",
       "      <td>1</td>\n",
       "      <td>6</td>\n",
       "      <td>0.1221</td>\n",
       "      <td>666.30</td>\n",
       "      <td>737</td>\n",
       "      <td>5801</td>\n",
       "      <td>11.8</td>\n",
       "      <td>0</td>\n",
       "      <td>0</td>\n",
       "    </tr>\n",
       "  </tbody>\n",
       "</table>\n",
       "<p>12872 rows × 9 columns</p>\n",
       "</div>"
      ],
      "text/plain": [
       "      credit.policy  purpose  int.rate  installment  fico  revol.bal  \\\n",
       "1605              1        3    0.1114        82.02   692      51489   \n",
       "8451              0        2    0.1482       297.37   647       4181   \n",
       "647               1        2    0.1387       264.39   682      26996   \n",
       "2125              1        4    0.1316       185.74   692      22479   \n",
       "6508              1        2    0.1287       302.70   687       9846   \n",
       "...             ...      ...       ...          ...   ...        ...   \n",
       "4706              1        2    0.1392       546.20   687      23839   \n",
       "6984              1        2    0.1531       522.23   682      51605   \n",
       "88                1        1    0.1533       644.30   662      22379   \n",
       "8891              0        0    0.1537       139.39   682       1272   \n",
       "3133              1        6    0.1221       666.30   737       5801   \n",
       "\n",
       "      revol.util  inq.last.6mths  pub.rec  \n",
       "1605        77.9               2        0  \n",
       "8451        97.2               2        0  \n",
       "647         66.8               0        0  \n",
       "2125        86.8               2        0  \n",
       "6508        80.0               0        0  \n",
       "...          ...             ...      ...  \n",
       "4706        59.3               1        0  \n",
       "6984        97.9               1        0  \n",
       "88          62.2               0        0  \n",
       "8891        38.5               0        0  \n",
       "3133        11.8               0        0  \n",
       "\n",
       "[12872 rows x 9 columns]"
      ]
     },
     "execution_count": 31,
     "metadata": {},
     "output_type": "execute_result"
    }
   ],
   "source": [
    "X_train"
   ]
  },
  {
   "cell_type": "code",
   "execution_count": 32,
   "id": "c0b68cf1",
   "metadata": {},
   "outputs": [],
   "source": [
    "#Need to required standard scaling\n",
    "# Apply standard scaling \n",
    "from sklearn.preprocessing import StandardScaler\n",
    "sc=StandardScaler()\n",
    "X_train=sc.fit_transform(X_train)\n",
    "X_test=sc.transform(X_test)"
   ]
  },
  {
   "cell_type": "code",
   "execution_count": 33,
   "id": "ad257fa8",
   "metadata": {},
   "outputs": [
    {
     "data": {
      "text/plain": [
       "array([[ 0.58500555,  0.5507311 , -0.56800491, ...,  0.9931069 ,\n",
       "         0.03208118, -0.26683168],\n",
       "       [-1.7093855 , -0.01467094,  0.80146802, ...,  1.65184872,\n",
       "         0.03208118, -0.26683168],\n",
       "       [ 0.58500555, -0.01467094,  0.44793561, ...,  0.61424503,\n",
       "        -0.72771457, -0.26683168],\n",
       "       ...,\n",
       "       [ 0.58500555, -0.58007297,  0.99125911, ...,  0.4572392 ,\n",
       "        -0.72771457, -0.26683168],\n",
       "       [-1.7093855 , -1.145475  ,  1.00614468, ..., -0.35168209,\n",
       "        -0.72771457, -0.26683168],\n",
       "       [ 0.58500555,  2.2469372 , -0.16981577, ..., -1.26299849,\n",
       "        -0.72771457, -0.26683168]])"
      ]
     },
     "execution_count": 33,
     "metadata": {},
     "output_type": "execute_result"
    }
   ],
   "source": [
    "X_train"
   ]
  },
  {
   "cell_type": "code",
   "execution_count": 34,
   "id": "1c8b4db0",
   "metadata": {},
   "outputs": [],
   "source": [
    "#Build the predictive models\n",
    "from tensorflow.keras.models import Sequential\n",
    "from tensorflow.keras.layers import Dense,Dropout\n",
    "from tensorflow.keras.callbacks import EarlyStopping"
   ]
  },
  {
   "cell_type": "code",
   "execution_count": 35,
   "id": "8256404c",
   "metadata": {},
   "outputs": [],
   "source": [
    "#Create Neural Network\n",
    "model=Sequential()\n",
    "\n",
    "# Create first hidden layer #for hidden layer you must use 'relu' and 'tanh'\n",
    "model.add(Dense(19,activation='relu',input_shape=(9,)))\n",
    "model.add(Dropout(0.3))\n",
    "\n",
    "#Create second hidden layer\n",
    "model.add(Dense(10,activation='relu')) #No need to give input_shape again, it only give one time\n",
    "model.add(Dropout(0.3))\n",
    "\n",
    "#Create output layer #And sigmoid use for binary classification for output layer\n",
    "model.add(Dense(1,activation='sigmoid'))"
   ]
  },
  {
   "cell_type": "code",
   "execution_count": 36,
   "id": "2e3d6608",
   "metadata": {},
   "outputs": [
    {
     "name": "stdout",
     "output_type": "stream",
     "text": [
      "Model: \"sequential\"\n",
      "_________________________________________________________________\n",
      " Layer (type)                Output Shape              Param #   \n",
      "=================================================================\n",
      " dense (Dense)               (None, 19)                190       \n",
      "                                                                 \n",
      " dropout (Dropout)           (None, 19)                0         \n",
      "                                                                 \n",
      " dense_1 (Dense)             (None, 10)                200       \n",
      "                                                                 \n",
      " dropout_1 (Dropout)         (None, 10)                0         \n",
      "                                                                 \n",
      " dense_2 (Dense)             (None, 1)                 11        \n",
      "                                                                 \n",
      "=================================================================\n",
      "Total params: 401 (1.57 KB)\n",
      "Trainable params: 401 (1.57 KB)\n",
      "Non-trainable params: 0 (0.00 Byte)\n",
      "_________________________________________________________________\n"
     ]
    }
   ],
   "source": [
    "model.summary()"
   ]
  },
  {
   "cell_type": "code",
   "execution_count": 37,
   "id": "60a7d8b0",
   "metadata": {},
   "outputs": [],
   "source": [
    "#Compile the model\n",
    "model.compile(loss='binary_crossentropy',optimizer='adam',metrics=['accuracy'])"
   ]
  },
  {
   "cell_type": "code",
   "execution_count": 38,
   "id": "7c2a5991",
   "metadata": {},
   "outputs": [],
   "source": [
    "#Early stopping\n",
    "early_stop=EarlyStopping(monitor='val_loss',\n",
    "                       min_delta=0.01,\n",
    "                       mode='min',\n",
    "                       verbose=1,\n",
    "                       patience=10)"
   ]
  },
  {
   "cell_type": "code",
   "execution_count": 39,
   "id": "da9c26de",
   "metadata": {
    "scrolled": true
   },
   "outputs": [
    {
     "name": "stdout",
     "output_type": "stream",
     "text": [
      "Epoch 1/50\n",
      "51/51 [==============================] - 1s 6ms/step - loss: 0.7397 - accuracy: 0.5170 - val_loss: 0.6830 - val_accuracy: 0.5348\n",
      "Epoch 2/50\n",
      "51/51 [==============================] - 0s 3ms/step - loss: 0.6975 - accuracy: 0.5390 - val_loss: 0.6656 - val_accuracy: 0.5907\n",
      "Epoch 3/50\n",
      "51/51 [==============================] - 0s 3ms/step - loss: 0.6825 - accuracy: 0.5603 - val_loss: 0.6585 - val_accuracy: 0.6131\n",
      "Epoch 4/50\n",
      "51/51 [==============================] - 0s 2ms/step - loss: 0.6713 - accuracy: 0.5751 - val_loss: 0.6523 - val_accuracy: 0.6175\n",
      "Epoch 5/50\n",
      "51/51 [==============================] - 0s 3ms/step - loss: 0.6707 - accuracy: 0.5760 - val_loss: 0.6503 - val_accuracy: 0.6190\n",
      "Epoch 6/50\n",
      "51/51 [==============================] - 0s 3ms/step - loss: 0.6652 - accuracy: 0.5812 - val_loss: 0.6476 - val_accuracy: 0.6190\n",
      "Epoch 7/50\n",
      "51/51 [==============================] - 0s 3ms/step - loss: 0.6637 - accuracy: 0.5905 - val_loss: 0.6482 - val_accuracy: 0.6209\n",
      "Epoch 8/50\n",
      "51/51 [==============================] - 0s 3ms/step - loss: 0.6599 - accuracy: 0.5972 - val_loss: 0.6458 - val_accuracy: 0.6190\n",
      "Epoch 9/50\n",
      "51/51 [==============================] - 0s 3ms/step - loss: 0.6591 - accuracy: 0.5954 - val_loss: 0.6443 - val_accuracy: 0.6249\n",
      "Epoch 10/50\n",
      "51/51 [==============================] - 0s 3ms/step - loss: 0.6568 - accuracy: 0.5984 - val_loss: 0.6443 - val_accuracy: 0.6237\n",
      "Epoch 11/50\n",
      "51/51 [==============================] - 0s 3ms/step - loss: 0.6589 - accuracy: 0.5984 - val_loss: 0.6448 - val_accuracy: 0.6280\n",
      "Epoch 12/50\n",
      "51/51 [==============================] - 0s 3ms/step - loss: 0.6565 - accuracy: 0.6001 - val_loss: 0.6433 - val_accuracy: 0.6283\n",
      "Epoch 13/50\n",
      "51/51 [==============================] - 0s 3ms/step - loss: 0.6568 - accuracy: 0.6006 - val_loss: 0.6428 - val_accuracy: 0.6277\n",
      "Epoch 14/50\n",
      "51/51 [==============================] - 0s 3ms/step - loss: 0.6552 - accuracy: 0.6087 - val_loss: 0.6415 - val_accuracy: 0.6249\n",
      "Epoch 15/50\n",
      "51/51 [==============================] - 0s 3ms/step - loss: 0.6552 - accuracy: 0.6078 - val_loss: 0.6415 - val_accuracy: 0.6265\n",
      "Epoch 16/50\n",
      "51/51 [==============================] - 0s 3ms/step - loss: 0.6547 - accuracy: 0.6038 - val_loss: 0.6419 - val_accuracy: 0.6299\n",
      "Epoch 17/50\n",
      "51/51 [==============================] - 0s 3ms/step - loss: 0.6539 - accuracy: 0.6060 - val_loss: 0.6406 - val_accuracy: 0.6311\n",
      "Epoch 18/50\n",
      "51/51 [==============================] - 0s 3ms/step - loss: 0.6544 - accuracy: 0.6085 - val_loss: 0.6405 - val_accuracy: 0.6305\n",
      "Epoch 19/50\n",
      "51/51 [==============================] - 0s 2ms/step - loss: 0.6527 - accuracy: 0.6093 - val_loss: 0.6398 - val_accuracy: 0.6352\n",
      "Epoch 20/50\n",
      "51/51 [==============================] - 0s 2ms/step - loss: 0.6527 - accuracy: 0.6124 - val_loss: 0.6403 - val_accuracy: 0.6280\n",
      "Epoch 21/50\n",
      "51/51 [==============================] - 0s 2ms/step - loss: 0.6529 - accuracy: 0.6133 - val_loss: 0.6402 - val_accuracy: 0.6339\n",
      "Epoch 22/50\n",
      "51/51 [==============================] - 0s 2ms/step - loss: 0.6552 - accuracy: 0.6043 - val_loss: 0.6408 - val_accuracy: 0.6274\n",
      "Epoch 23/50\n",
      "51/51 [==============================] - 0s 2ms/step - loss: 0.6538 - accuracy: 0.6140 - val_loss: 0.6407 - val_accuracy: 0.6293\n",
      "Epoch 24/50\n",
      "51/51 [==============================] - 0s 2ms/step - loss: 0.6531 - accuracy: 0.6109 - val_loss: 0.6405 - val_accuracy: 0.6318\n",
      "Epoch 24: early stopping\n"
     ]
    }
   ],
   "source": [
    "history=model.fit(X_train,y_train,\n",
    "                 epochs=50,\n",
    "                 batch_size=256,\n",
    "                 validation_data=(X_test,y_test),\n",
    "                 callbacks=[early_stop])"
   ]
  },
  {
   "cell_type": "code",
   "execution_count": 40,
   "id": "3e02bfc2",
   "metadata": {
    "scrolled": true
   },
   "outputs": [
    {
     "name": "stdout",
     "output_type": "stream",
     "text": [
      "Epoch 1/50\n",
      "51/51 [==============================] - 0s 3ms/step - loss: 0.6513 - accuracy: 0.6070 - val_loss: 0.6401 - val_accuracy: 0.6296\n",
      "Epoch 2/50\n",
      "51/51 [==============================] - 0s 2ms/step - loss: 0.6528 - accuracy: 0.6076 - val_loss: 0.6404 - val_accuracy: 0.6293\n",
      "Epoch 3/50\n",
      "51/51 [==============================] - 0s 2ms/step - loss: 0.6510 - accuracy: 0.6133 - val_loss: 0.6396 - val_accuracy: 0.6290\n",
      "Epoch 4/50\n",
      "51/51 [==============================] - 0s 2ms/step - loss: 0.6507 - accuracy: 0.6106 - val_loss: 0.6387 - val_accuracy: 0.6274\n",
      "Epoch 5/50\n",
      "51/51 [==============================] - 0s 3ms/step - loss: 0.6501 - accuracy: 0.6144 - val_loss: 0.6388 - val_accuracy: 0.6274\n",
      "Epoch 6/50\n",
      "51/51 [==============================] - 0s 3ms/step - loss: 0.6491 - accuracy: 0.6148 - val_loss: 0.6378 - val_accuracy: 0.6314\n",
      "Epoch 7/50\n",
      "51/51 [==============================] - 0s 2ms/step - loss: 0.6492 - accuracy: 0.6133 - val_loss: 0.6385 - val_accuracy: 0.6259\n",
      "Epoch 8/50\n",
      "51/51 [==============================] - 0s 2ms/step - loss: 0.6515 - accuracy: 0.6151 - val_loss: 0.6392 - val_accuracy: 0.6262\n",
      "Epoch 9/50\n",
      "51/51 [==============================] - 0s 2ms/step - loss: 0.6498 - accuracy: 0.6151 - val_loss: 0.6388 - val_accuracy: 0.6287\n",
      "Epoch 10/50\n",
      "51/51 [==============================] - 0s 2ms/step - loss: 0.6519 - accuracy: 0.6151 - val_loss: 0.6385 - val_accuracy: 0.6252\n",
      "Epoch 11/50\n",
      "51/51 [==============================] - 0s 2ms/step - loss: 0.6509 - accuracy: 0.6140 - val_loss: 0.6386 - val_accuracy: 0.6240\n",
      "Epoch 12/50\n",
      "51/51 [==============================] - 0s 2ms/step - loss: 0.6474 - accuracy: 0.6165 - val_loss: 0.6373 - val_accuracy: 0.6271\n",
      "Epoch 13/50\n",
      "51/51 [==============================] - 0s 2ms/step - loss: 0.6505 - accuracy: 0.6210 - val_loss: 0.6379 - val_accuracy: 0.6302\n",
      "Epoch 14/50\n",
      "51/51 [==============================] - 0s 2ms/step - loss: 0.6486 - accuracy: 0.6220 - val_loss: 0.6375 - val_accuracy: 0.6321\n",
      "Epoch 15/50\n",
      "51/51 [==============================] - 0s 2ms/step - loss: 0.6507 - accuracy: 0.6157 - val_loss: 0.6379 - val_accuracy: 0.6268\n",
      "Epoch 16/50\n",
      "51/51 [==============================] - 0s 2ms/step - loss: 0.6482 - accuracy: 0.6148 - val_loss: 0.6372 - val_accuracy: 0.6277\n",
      "Epoch 17/50\n",
      "51/51 [==============================] - 0s 2ms/step - loss: 0.6508 - accuracy: 0.6109 - val_loss: 0.6382 - val_accuracy: 0.6237\n",
      "Epoch 18/50\n",
      "51/51 [==============================] - 0s 2ms/step - loss: 0.6473 - accuracy: 0.6158 - val_loss: 0.6376 - val_accuracy: 0.6274\n",
      "Epoch 19/50\n",
      "51/51 [==============================] - 0s 2ms/step - loss: 0.6475 - accuracy: 0.6154 - val_loss: 0.6368 - val_accuracy: 0.6274\n",
      "Epoch 20/50\n",
      "51/51 [==============================] - 0s 2ms/step - loss: 0.6487 - accuracy: 0.6174 - val_loss: 0.6367 - val_accuracy: 0.6255\n",
      "Epoch 21/50\n",
      "51/51 [==============================] - 0s 3ms/step - loss: 0.6479 - accuracy: 0.6192 - val_loss: 0.6366 - val_accuracy: 0.6296\n",
      "Epoch 22/50\n",
      "51/51 [==============================] - 0s 2ms/step - loss: 0.6487 - accuracy: 0.6175 - val_loss: 0.6368 - val_accuracy: 0.6277\n",
      "Epoch 23/50\n",
      "51/51 [==============================] - 0s 2ms/step - loss: 0.6476 - accuracy: 0.6199 - val_loss: 0.6370 - val_accuracy: 0.6259\n",
      "Epoch 24/50\n",
      "51/51 [==============================] - 0s 2ms/step - loss: 0.6475 - accuracy: 0.6193 - val_loss: 0.6366 - val_accuracy: 0.6268\n",
      "Epoch 25/50\n",
      "51/51 [==============================] - 0s 2ms/step - loss: 0.6479 - accuracy: 0.6193 - val_loss: 0.6357 - val_accuracy: 0.6299\n",
      "Epoch 26/50\n",
      "51/51 [==============================] - 0s 2ms/step - loss: 0.6473 - accuracy: 0.6211 - val_loss: 0.6364 - val_accuracy: 0.6290\n",
      "Epoch 27/50\n",
      "51/51 [==============================] - 0s 2ms/step - loss: 0.6466 - accuracy: 0.6219 - val_loss: 0.6350 - val_accuracy: 0.6302\n",
      "Epoch 28/50\n",
      "51/51 [==============================] - 0s 2ms/step - loss: 0.6487 - accuracy: 0.6186 - val_loss: 0.6373 - val_accuracy: 0.6243\n",
      "Epoch 29/50\n",
      "51/51 [==============================] - 0s 2ms/step - loss: 0.6490 - accuracy: 0.6200 - val_loss: 0.6363 - val_accuracy: 0.6290\n",
      "Epoch 30/50\n",
      "51/51 [==============================] - 0s 2ms/step - loss: 0.6468 - accuracy: 0.6194 - val_loss: 0.6372 - val_accuracy: 0.6314\n",
      "Epoch 31/50\n",
      "51/51 [==============================] - 0s 2ms/step - loss: 0.6478 - accuracy: 0.6243 - val_loss: 0.6365 - val_accuracy: 0.6330\n",
      "Epoch 32/50\n",
      "51/51 [==============================] - 0s 2ms/step - loss: 0.6454 - accuracy: 0.6192 - val_loss: 0.6359 - val_accuracy: 0.6336\n",
      "Epoch 33/50\n",
      "51/51 [==============================] - 0s 2ms/step - loss: 0.6478 - accuracy: 0.6230 - val_loss: 0.6358 - val_accuracy: 0.6318\n",
      "Epoch 34/50\n",
      "51/51 [==============================] - 0s 2ms/step - loss: 0.6478 - accuracy: 0.6142 - val_loss: 0.6352 - val_accuracy: 0.6367\n",
      "Epoch 35/50\n",
      "51/51 [==============================] - 0s 2ms/step - loss: 0.6457 - accuracy: 0.6203 - val_loss: 0.6355 - val_accuracy: 0.6299\n",
      "Epoch 36/50\n",
      "51/51 [==============================] - 0s 2ms/step - loss: 0.6468 - accuracy: 0.6184 - val_loss: 0.6351 - val_accuracy: 0.6339\n",
      "Epoch 37/50\n",
      "51/51 [==============================] - 0s 3ms/step - loss: 0.6466 - accuracy: 0.6233 - val_loss: 0.6360 - val_accuracy: 0.6333\n",
      "Epoch 38/50\n",
      "51/51 [==============================] - 0s 2ms/step - loss: 0.6465 - accuracy: 0.6208 - val_loss: 0.6352 - val_accuracy: 0.6349\n",
      "Epoch 39/50\n",
      "51/51 [==============================] - 0s 2ms/step - loss: 0.6468 - accuracy: 0.6210 - val_loss: 0.6353 - val_accuracy: 0.6346\n",
      "Epoch 40/50\n",
      "51/51 [==============================] - 0s 2ms/step - loss: 0.6451 - accuracy: 0.6221 - val_loss: 0.6350 - val_accuracy: 0.6358\n",
      "Epoch 41/50\n",
      "51/51 [==============================] - 0s 2ms/step - loss: 0.6458 - accuracy: 0.6239 - val_loss: 0.6350 - val_accuracy: 0.6358\n",
      "Epoch 42/50\n",
      "51/51 [==============================] - 0s 2ms/step - loss: 0.6456 - accuracy: 0.6194 - val_loss: 0.6364 - val_accuracy: 0.6265\n",
      "Epoch 43/50\n",
      "51/51 [==============================] - 0s 2ms/step - loss: 0.6454 - accuracy: 0.6213 - val_loss: 0.6352 - val_accuracy: 0.6293\n",
      "Epoch 44/50\n",
      "51/51 [==============================] - 0s 2ms/step - loss: 0.6447 - accuracy: 0.6257 - val_loss: 0.6346 - val_accuracy: 0.6305\n",
      "Epoch 45/50\n",
      "51/51 [==============================] - 0s 2ms/step - loss: 0.6467 - accuracy: 0.6248 - val_loss: 0.6349 - val_accuracy: 0.6271\n",
      "Epoch 46/50\n",
      "51/51 [==============================] - 0s 2ms/step - loss: 0.6457 - accuracy: 0.6231 - val_loss: 0.6352 - val_accuracy: 0.6262\n",
      "Epoch 47/50\n",
      "51/51 [==============================] - 0s 3ms/step - loss: 0.6457 - accuracy: 0.6240 - val_loss: 0.6347 - val_accuracy: 0.6255\n",
      "Epoch 48/50\n",
      "51/51 [==============================] - 0s 2ms/step - loss: 0.6435 - accuracy: 0.6234 - val_loss: 0.6347 - val_accuracy: 0.6302\n",
      "Epoch 49/50\n",
      "51/51 [==============================] - 0s 2ms/step - loss: 0.6448 - accuracy: 0.6247 - val_loss: 0.6343 - val_accuracy: 0.6318\n",
      "Epoch 50/50\n",
      "51/51 [==============================] - 0s 3ms/step - loss: 0.6453 - accuracy: 0.6250 - val_loss: 0.6347 - val_accuracy: 0.6318\n"
     ]
    }
   ],
   "source": [
    "#If we not using early-stopping it will give all 50 epochs\n",
    "history=model.fit(X_train,y_train,\n",
    "                 epochs=50,\n",
    "                 batch_size=256,\n",
    "                 validation_data=(X_test,y_test),)"
   ]
  },
  {
   "cell_type": "code",
   "execution_count": 41,
   "id": "1071c0eb",
   "metadata": {},
   "outputs": [
    {
     "data": {
      "text/plain": [
       "(12872, 9)"
      ]
     },
     "execution_count": 41,
     "metadata": {},
     "output_type": "execute_result"
    }
   ],
   "source": [
    "X_train.shape"
   ]
  },
  {
   "cell_type": "code",
   "execution_count": 42,
   "id": "8cfcfc82",
   "metadata": {},
   "outputs": [
    {
     "data": {
      "text/plain": [
       "50.28125"
      ]
     },
     "execution_count": 42,
     "metadata": {},
     "output_type": "execute_result"
    }
   ],
   "source": [
    "12872/256"
   ]
  },
  {
   "cell_type": "code",
   "execution_count": 43,
   "id": "8425648f",
   "metadata": {},
   "outputs": [
    {
     "name": "stdout",
     "output_type": "stream",
     "text": [
      "101/101 [==============================] - 0s 1ms/step - loss: 0.6347 - accuracy: 0.6318\n"
     ]
    },
    {
     "data": {
      "text/plain": [
       "[0.6347000598907471, 0.6317588686943054]"
      ]
     },
     "execution_count": 43,
     "metadata": {},
     "output_type": "execute_result"
    }
   ],
   "source": [
    "#Evaluation the model\n",
    "model.evaluate(X_test,y_test)"
   ]
  },
  {
   "cell_type": "code",
   "execution_count": 44,
   "id": "5ebb8a4a",
   "metadata": {},
   "outputs": [
    {
     "name": "stdout",
     "output_type": "stream",
     "text": [
      "403/403 [==============================] - 1s 1ms/step - loss: 0.6376 - accuracy: 0.6360\n"
     ]
    },
    {
     "data": {
      "text/plain": [
       "[0.6375932097434998, 0.6359540224075317]"
      ]
     },
     "execution_count": 44,
     "metadata": {},
     "output_type": "execute_result"
    }
   ],
   "source": [
    "#Evaluation the model\n",
    "model.evaluate(X_train,y_train)"
   ]
  },
  {
   "cell_type": "code",
   "execution_count": 45,
   "id": "fccbd045",
   "metadata": {},
   "outputs": [],
   "source": [
    "#!pip install keras-tuner\n",
    "#!pip install tensorflow\n",
    "import keras_tuner\n",
    "import tensorflow"
   ]
  },
  {
   "cell_type": "code",
   "execution_count": 46,
   "id": "96f9c1c6",
   "metadata": {},
   "outputs": [],
   "source": [
    "#Create a function\n",
    "def build_model(hp):\n",
    "    model=Sequential()\n",
    "    \n",
    "    #First hidden layer #for hidden layer you must use 'relu' and 'tanh'\n",
    "    #And sigmoid use for binary classification for output layer\n",
    "    model.add(Dense(units=hp.Int('units',min_value=32,max_value=1024,step=16),\n",
    "                   activation=hp.Choice('activation',['relu','tanh']),input_shape=[9]))\n",
    "    model.add(Dropout(hp.Float('rate',min_value=0.1,max_value=0.5,step=0.1)))\n",
    "    \n",
    "    #second hidden layer\n",
    "    model.add(Dense(units=hp.Int('units',min_value=32,max_value=1024,step=16),\n",
    "                   activation=hp.Choice('activation',['relu','tanh'])))\n",
    "    model.add(Dropout(hp.Float('rate',min_value=0.1,max_value=0.5,step=0.1)))\n",
    "    \n",
    "    #Third hidden layer\n",
    "    model.add(Dense(units=hp.Int('units',min_value=32,max_value=1024,step=16),\n",
    "                   activation=hp.Choice('activation',['relu','tanh'])))\n",
    "    model.add(Dropout(hp.Float('rate',min_value=0.1,max_value=0.5,step=0.1)))\n",
    "    \n",
    "    #Output Layer\n",
    "    model.add(Dense(1,activation='sigmoid'))\n",
    "    \n",
    "    #Compilation\n",
    "    learning_rate=hp.Float('learning_rate',min_value=0.001,max_value=0.1,step=0.01)\n",
    "    \n",
    "    model.compile(loss='binary_crossentropy',optimizer=tensorflow.keras.optimizers.Adam\n",
    "                 (learning_rate),metrics=['accuracy'])\n",
    "    \n",
    "    return model"
   ]
  },
  {
   "cell_type": "code",
   "execution_count": 47,
   "id": "6de53519",
   "metadata": {},
   "outputs": [],
   "source": [
    "import keras_tuner as kt"
   ]
  },
  {
   "cell_type": "code",
   "execution_count": 48,
   "id": "6a33ff6b",
   "metadata": {},
   "outputs": [
    {
     "data": {
      "text/plain": [
       "<keras.src.engine.sequential.Sequential at 0x295cca90810>"
      ]
     },
     "execution_count": 48,
     "metadata": {},
     "output_type": "execute_result"
    }
   ],
   "source": [
    "build_model(kt.HyperParameters())"
   ]
  },
  {
   "cell_type": "code",
   "execution_count": 49,
   "id": "e040a015",
   "metadata": {},
   "outputs": [],
   "source": [
    "rtuner=kt.RandomSearch(hypermodel=build_model,\n",
    "                      objective='val_accuracy',\n",
    "                      max_trials=3,\n",
    "                      overwrite=True)"
   ]
  },
  {
   "cell_type": "code",
   "execution_count": 50,
   "id": "2d4b2f27",
   "metadata": {},
   "outputs": [
    {
     "name": "stdout",
     "output_type": "stream",
     "text": [
      "Trial 3 Complete [00h 00m 46s]\n",
      "val_accuracy: 0.5009322762489319\n",
      "\n",
      "Best val_accuracy So Far: 0.59664386510849\n",
      "Total elapsed time: 00h 01m 31s\n",
      "INFO:tensorflow:Oracle triggered exit\n"
     ]
    }
   ],
   "source": [
    "rtuner.search(X_train,y_train,epochs=4,validation_data=(X_test,y_test),verbose=1)\n",
    "#Atleast 50 epochs should be run(and it will reach up to 70% accuracy)"
   ]
  },
  {
   "cell_type": "code",
   "execution_count": 51,
   "id": "0278a1cc",
   "metadata": {},
   "outputs": [
    {
     "name": "stdout",
     "output_type": "stream",
     "text": [
      "Results summary\n",
      "Results in .\\untitled_project\n",
      "Showing 10 best trials\n",
      "Objective(name=\"val_accuracy\", direction=\"max\")\n",
      "\n",
      "Trial 1 summary\n",
      "Hyperparameters:\n",
      "units: 512\n",
      "activation: tanh\n",
      "rate: 0.4\n",
      "learning_rate: 0.051000000000000004\n",
      "Score: 0.59664386510849\n",
      "\n",
      "Trial 0 summary\n",
      "Hyperparameters:\n",
      "units: 544\n",
      "activation: tanh\n",
      "rate: 0.2\n",
      "learning_rate: 0.051000000000000004\n",
      "Score: 0.549098789691925\n",
      "\n",
      "Trial 2 summary\n",
      "Hyperparameters:\n",
      "units: 832\n",
      "activation: relu\n",
      "rate: 0.30000000000000004\n",
      "learning_rate: 0.051000000000000004\n",
      "Score: 0.5009322762489319\n"
     ]
    }
   ],
   "source": [
    "rtuner.results_summary()"
   ]
  },
  {
   "cell_type": "code",
   "execution_count": 52,
   "id": "3a766736",
   "metadata": {},
   "outputs": [],
   "source": [
    "models=rtuner.get_best_models()"
   ]
  },
  {
   "cell_type": "code",
   "execution_count": 53,
   "id": "f3b186c8",
   "metadata": {},
   "outputs": [
    {
     "name": "stdout",
     "output_type": "stream",
     "text": [
      "Model: \"sequential\"\n",
      "_________________________________________________________________\n",
      " Layer (type)                Output Shape              Param #   \n",
      "=================================================================\n",
      " dense (Dense)               (None, 512)               5120      \n",
      "                                                                 \n",
      " dropout (Dropout)           (None, 512)               0         \n",
      "                                                                 \n",
      " dense_1 (Dense)             (None, 512)               262656    \n",
      "                                                                 \n",
      " dropout_1 (Dropout)         (None, 512)               0         \n",
      "                                                                 \n",
      " dense_2 (Dense)             (None, 512)               262656    \n",
      "                                                                 \n",
      " dropout_2 (Dropout)         (None, 512)               0         \n",
      "                                                                 \n",
      " dense_3 (Dense)             (None, 1)                 513       \n",
      "                                                                 \n",
      "=================================================================\n",
      "Total params: 530945 (2.03 MB)\n",
      "Trainable params: 530945 (2.03 MB)\n",
      "Non-trainable params: 0 (0.00 Byte)\n",
      "_________________________________________________________________\n"
     ]
    }
   ],
   "source": [
    "models[0].summary()"
   ]
  },
  {
   "cell_type": "code",
   "execution_count": 54,
   "id": "92c08b04",
   "metadata": {},
   "outputs": [
    {
     "name": "stdout",
     "output_type": "stream",
     "text": [
      "101/101 [==============================] - 0s 3ms/step\n"
     ]
    }
   ],
   "source": [
    "#Print accurcy score\n",
    "from sklearn.metrics import accuracy_score\n",
    "y_pred_hp=models[0].predict(X_test,)>=0.5"
   ]
  },
  {
   "cell_type": "code",
   "execution_count": 55,
   "id": "4c8dd277",
   "metadata": {},
   "outputs": [
    {
     "data": {
      "text/plain": [
       "array([[False],\n",
       "       [False],\n",
       "       [ True],\n",
       "       ...,\n",
       "       [ True],\n",
       "       [False],\n",
       "       [ True]])"
      ]
     },
     "execution_count": 55,
     "metadata": {},
     "output_type": "execute_result"
    }
   ],
   "source": [
    "y_pred_hp"
   ]
  },
  {
   "cell_type": "code",
   "execution_count": 56,
   "id": "2ae7d391",
   "metadata": {},
   "outputs": [
    {
     "data": {
      "text/html": [
       "<div>\n",
       "<style scoped>\n",
       "    .dataframe tbody tr th:only-of-type {\n",
       "        vertical-align: middle;\n",
       "    }\n",
       "\n",
       "    .dataframe tbody tr th {\n",
       "        vertical-align: top;\n",
       "    }\n",
       "\n",
       "    .dataframe thead th {\n",
       "        text-align: right;\n",
       "    }\n",
       "</style>\n",
       "<table border=\"1\" class=\"dataframe\">\n",
       "  <thead>\n",
       "    <tr style=\"text-align: right;\">\n",
       "      <th></th>\n",
       "      <th>not.fully.paid</th>\n",
       "    </tr>\n",
       "  </thead>\n",
       "  <tbody>\n",
       "    <tr>\n",
       "      <th>6286</th>\n",
       "      <td>1</td>\n",
       "    </tr>\n",
       "    <tr>\n",
       "      <th>1913</th>\n",
       "      <td>0</td>\n",
       "    </tr>\n",
       "    <tr>\n",
       "      <th>9303</th>\n",
       "      <td>1</td>\n",
       "    </tr>\n",
       "    <tr>\n",
       "      <th>7476</th>\n",
       "      <td>0</td>\n",
       "    </tr>\n",
       "    <tr>\n",
       "      <th>7034</th>\n",
       "      <td>1</td>\n",
       "    </tr>\n",
       "    <tr>\n",
       "      <th>...</th>\n",
       "      <td>...</td>\n",
       "    </tr>\n",
       "    <tr>\n",
       "      <th>2781</th>\n",
       "      <td>1</td>\n",
       "    </tr>\n",
       "    <tr>\n",
       "      <th>2665</th>\n",
       "      <td>1</td>\n",
       "    </tr>\n",
       "    <tr>\n",
       "      <th>7762</th>\n",
       "      <td>1</td>\n",
       "    </tr>\n",
       "    <tr>\n",
       "      <th>1103</th>\n",
       "      <td>0</td>\n",
       "    </tr>\n",
       "    <tr>\n",
       "      <th>3838</th>\n",
       "      <td>1</td>\n",
       "    </tr>\n",
       "  </tbody>\n",
       "</table>\n",
       "<p>3218 rows × 1 columns</p>\n",
       "</div>"
      ],
      "text/plain": [
       "      not.fully.paid\n",
       "6286               1\n",
       "1913               0\n",
       "9303               1\n",
       "7476               0\n",
       "7034               1\n",
       "...              ...\n",
       "2781               1\n",
       "2665               1\n",
       "7762               1\n",
       "1103               0\n",
       "3838               1\n",
       "\n",
       "[3218 rows x 1 columns]"
      ]
     },
     "execution_count": 56,
     "metadata": {},
     "output_type": "execute_result"
    }
   ],
   "source": [
    "y_test"
   ]
  },
  {
   "cell_type": "code",
   "execution_count": 57,
   "id": "3e8e623c",
   "metadata": {},
   "outputs": [
    {
     "data": {
      "text/plain": [
       "0.5966438781852083"
      ]
     },
     "execution_count": 57,
     "metadata": {},
     "output_type": "execute_result"
    }
   ],
   "source": [
    "accuracy_score(y_pred_hp,y_test)"
   ]
  },
  {
   "cell_type": "code",
   "execution_count": null,
   "id": "80a8c2e3",
   "metadata": {},
   "outputs": [],
   "source": []
  }
 ],
 "metadata": {
  "kernelspec": {
   "display_name": "Python 3 (ipykernel)",
   "language": "python",
   "name": "python3"
  },
  "language_info": {
   "codemirror_mode": {
    "name": "ipython",
    "version": 3
   },
   "file_extension": ".py",
   "mimetype": "text/x-python",
   "name": "python",
   "nbconvert_exporter": "python",
   "pygments_lexer": "ipython3",
   "version": "3.11.4"
  }
 },
 "nbformat": 4,
 "nbformat_minor": 5
}
